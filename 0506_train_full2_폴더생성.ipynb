{
 "cells": [
  {
   "cell_type": "markdown",
   "id": "4f937392",
   "metadata": {},
   "source": [
    "## train_full directory 생성\n",
    "- 라벨별로 7:3 비율로 train, validation 나눔"
   ]
  },
  {
   "cell_type": "code",
   "execution_count": null,
   "id": "ac4ac633",
   "metadata": {},
   "outputs": [],
   "source": [
    "import os, shutil\n",
    "import numpy as np\n",
    "import pandas as pd\n",
    "import matplotlib.pyplot as plt\n",
    "from PIL import Image\n",
    "\n",
    "## Load Data\n",
    "df_train = pd.read_csv('./data/train_df.csv')\n",
    "df_test = pd.read_csv('./data/test_df.csv')\n",
    "\n",
    "## label list\n",
    "labelList = df_train['label'].unique()\n",
    "labelList\n",
    "\n",
    "# 작업할 폴더\n",
    "original_dataset_dir = './data/train'\n",
    "\n",
    "# 저장할 폴더\n",
    "base_dir = 'data/train_full2'\n",
    "os.mkdir(base_dir)\n",
    "\n",
    "# Dir 만들기 (이미 만들어져있으면, 오류나요)\n",
    "train_dir = os.path.join(base_dir,'train')\n",
    "os.mkdir(train_dir)\n",
    "validation_dir = os.path.join(base_dir,'validation')\n",
    "os.mkdir(validation_dir)\n",
    "\n",
    "# label별로 3:7 비율로 dir에 저장\n",
    "for d_path in [train_dir, validation_dir]:\n",
    "\n",
    "    for l_name in labelList:    \n",
    "        label_df = df_train[df_train['label']==l_name].reset_index()\n",
    "        \n",
    "        for idx, l_row in label_df.iterrows() :\n",
    "            src = os.path.join(original_dataset_dir, l_row.file_name).replace('\\\\','/')\n",
    "            \n",
    "            if idx <= len(label_df)//3:\n",
    "                dst = os.path.join(validation_dir, l_row.file_name).replace('\\\\','/')\n",
    "            else :\n",
    "                dst = os.path.join(train_dir, l_row.file_name).replace('\\\\','/')\n",
    "                \n",
    "            shutil.copyfile(src,dst)\n",
    "\n",
    "# train : 2788 \n",
    "# validation : 1489"
   ]
  },
  {
   "cell_type": "markdown",
   "id": "e9ce77a7",
   "metadata": {},
   "source": [
    "## Class 별로 나눔"
   ]
  },
  {
   "cell_type": "code",
   "execution_count": 6,
   "id": "cfe8af51",
   "metadata": {},
   "outputs": [],
   "source": [
    "## class list\n",
    "classList = df_train['class'].unique()\n",
    "classList\n",
    "\n",
    "base_train_dir = 'data/train_full2/train'\n",
    "base_valid_dir = 'data/train_full2/validation'\n",
    "\n",
    "## class 폴더 생성\n",
    "for dir_path in [base_train_dir, base_valid_dir]:\n",
    "    for c_name in classList:\n",
    "        mk_dir_path = os.path.join(dir_path, c_name)\n",
    "        os.mkdir(mk_dir_path)\n",
    "        \n",
    "## 파일 이동\n",
    "for dir_path in [base_train_dir, base_valid_dir]:\n",
    "    train_folder = os.listdir(dir_path)\n",
    "    \n",
    "    for i in range(len(train_folder)):\n",
    "        \n",
    "        if train_folder[i][-3:] == 'png':\n",
    "            f_class = df_train[df_train[\"file_name\"] == f\"{train_folder[i]}\"].iloc[0]['class']\n",
    "            file_source = os.path.join(dir_path,train_folder[i])\n",
    "            file_destination = os.path.join(dir_path,f_class)\n",
    "            shutil.move(file_source, file_destination)\n",
    "    \n",
    "            "
   ]
  },
  {
   "cell_type": "code",
   "execution_count": null,
   "id": "60de1d41",
   "metadata": {},
   "outputs": [],
   "source": []
  }
 ],
 "metadata": {
  "kernelspec": {
   "display_name": "Python [conda env:machine_TF2] *",
   "language": "python",
   "name": "conda-env-machine_TF2-py"
  },
  "language_info": {
   "codemirror_mode": {
    "name": "ipython",
    "version": 3
   },
   "file_extension": ".py",
   "mimetype": "text/x-python",
   "name": "python",
   "nbconvert_exporter": "python",
   "pygments_lexer": "ipython3",
   "version": "3.8.13"
  }
 },
 "nbformat": 4,
 "nbformat_minor": 5
}
