{
 "cells": [
  {
   "cell_type": "markdown",
   "id": "ff44f93e",
   "metadata": {},
   "source": [
    "## 폴더생성\n",
    "- train, validation 나누지 않고, class - validation으로 폴더를 나눔"
   ]
  },
  {
   "cell_type": "markdown",
   "id": "ca01f48a",
   "metadata": {},
   "source": [
    "## copy"
   ]
  },
  {
   "cell_type": "code",
   "execution_count": 2,
   "id": "6e17fb50",
   "metadata": {},
   "outputs": [
    {
     "data": {
      "text/plain": [
       "'./data/class_model_full2'"
      ]
     },
     "execution_count": 2,
     "metadata": {},
     "output_type": "execute_result"
    }
   ],
   "source": [
    "import os, shutil\n",
    "import numpy as np\n",
    "import pandas as pd\n",
    "import matplotlib.pyplot as plt\n",
    "from PIL import Image\n",
    "\n",
    "## Load Data\n",
    "df_train = pd.read_csv('./data/train_df.csv')\n",
    "df_test = pd.read_csv('./data/test_df.csv')\n",
    "\n",
    "# 작업할 폴더\n",
    "original_dataset_dir = './data/train'\n",
    "\n",
    "# 저장할 폴더\n",
    "base_dir = './data/class_model_full2'\n",
    "               \n",
    "# 파일 복사 (이미 만들어져있으면 에러발생)\n",
    "shutil.copytree(original_dataset_dir, base_dir)\n",
    "\n",
    "# train : 2788 \n",
    "# validation : 1489"
   ]
  },
  {
   "cell_type": "markdown",
   "id": "f73bcea4",
   "metadata": {},
   "source": [
    "## class directory 생성"
   ]
  },
  {
   "cell_type": "code",
   "execution_count": 3,
   "id": "6d95fdc7",
   "metadata": {},
   "outputs": [
    {
     "name": "stdout",
     "output_type": "stream",
     "text": [
      "15\n",
      "4277\n"
     ]
    }
   ],
   "source": [
    "import os, shutil\n",
    "import numpy as np\n",
    "import pandas as pd\n",
    "\n",
    "train_df = pd.read_csv(\"./data/train_df.csv\")\n",
    "class_list = train_df[\"class\"].unique().tolist()\n",
    "print(len(class_list))  # type = list\n",
    "\n",
    "# 작업할 폴더\n",
    "dir_path = './data/class_model_full2'\n",
    "\n",
    "## lable 별 directory 생성\n",
    "def createFolder(directory):\n",
    "    try:\n",
    "        if not os.path.exists(directory):\n",
    "            os.makedirs(directory)\n",
    "    except OSError:\n",
    "        print ('Error: Creating directory. ' +  directory)\n",
    "\n",
    "    \n",
    "for i in range(len(class_list)):  #  class 개수 만큼 \n",
    "    createFolder(os.path.join(dir_path,class_list[i]))  # class 폴더를 생성\n",
    "\n",
    "train_folder = os.listdir(dir_path)\n",
    "print(len(train_folder)-15)  # 폴더개수 88\n",
    "\n",
    "## 파일 이동 실행\n",
    "for i in range(len(train_folder)):\n",
    "\n",
    "    if train_folder[i][-3:] == \"png\":   # 확장자가 png면 \n",
    "        class_label = train_df[train_df[\"file_name\"] == f\"{train_folder[i]}\"].iloc[0]['class']\n",
    "        file_source = os.path.join(dir_path,train_folder[i]) # train 폴더에 있는 해당 이미지를\n",
    "        file_destination = os.path.join(dir_path,class_label)  # 해당 class 폴더로 이동 \n",
    "        shutil.move(file_source, file_destination)  # 이동 실행\n",
    "    "
   ]
  },
  {
   "cell_type": "markdown",
   "id": "f250a316",
   "metadata": {},
   "source": [
    "## label directory 생성"
   ]
  },
  {
   "cell_type": "code",
   "execution_count": 4,
   "id": "017c5d79",
   "metadata": {},
   "outputs": [
    {
     "name": "stdout",
     "output_type": "stream",
     "text": [
      "15\n",
      "238\n",
      "281\n",
      "284\n",
      "245\n",
      "387\n",
      "280\n",
      "333\n",
      "432\n",
      "348\n",
      "273\n",
      "309\n",
      "299\n",
      "77\n",
      "279\n",
      "300\n"
     ]
    }
   ],
   "source": [
    "import os, shutil\n",
    "import numpy as np\n",
    "import pandas as pd\n",
    "\n",
    "train_df = pd.read_csv(\"./data/train_df.csv\")\n",
    "class_list = train_df[\"class\"].unique().tolist()\n",
    "print(len(class_list))  # type = list\n",
    "\n",
    "# 작업할 폴더\n",
    "dir_path = './data/class_model_full2'\n",
    "\n",
    "## directory 생성 함수\n",
    "def createFolder(directory):\n",
    "    try:\n",
    "        if not os.path.exists(directory):\n",
    "            os.makedirs(directory)\n",
    "    except OSError:\n",
    "        print ('Error: Creating directory. ' +  directory)\n",
    "    \n",
    "for c_name in class_list:\n",
    "    class_dir_path = os.path.join(dir_path, c_name)\n",
    "    class_label_list = train_df[train_df['class']==c_name]['label'].unique()\n",
    "    for i in range(len(class_label_list)):\n",
    "        createFolder(os.path.join(class_dir_path, class_label_list[i]))\n",
    "\n",
    "    train_folder = os.listdir(class_dir_path)\n",
    "    print(len(train_folder))  # 폴더개수 88\n",
    "\n",
    "    for i in range(len(train_folder)):\n",
    "        if train_folder[i][-3:] == \"png\":   # 확장자가 png면 \n",
    "            label = train_df[train_df[\"file_name\"] == f\"{train_folder[i]}\"].iloc[0]['label']\n",
    "            file_source = os.path.join(class_dir_path,train_folder[i]) # train 폴더에 있는 해당 이미지를\n",
    "            file_destination = os.path.join(class_dir_path,label)  # 해당 label 폴더로 이동 \n",
    "            shutil.move(file_source, file_destination)  # 이동 실행"
   ]
  },
  {
   "cell_type": "code",
   "execution_count": null,
   "id": "f60bf9f6",
   "metadata": {},
   "outputs": [],
   "source": []
  }
 ],
 "metadata": {
  "kernelspec": {
   "display_name": "Python [conda env:machine_TF2] *",
   "language": "python",
   "name": "conda-env-machine_TF2-py"
  },
  "language_info": {
   "codemirror_mode": {
    "name": "ipython",
    "version": 3
   },
   "file_extension": ".py",
   "mimetype": "text/x-python",
   "name": "python",
   "nbconvert_exporter": "python",
   "pygments_lexer": "ipython3",
   "version": "3.8.13"
  }
 },
 "nbformat": 4,
 "nbformat_minor": 5
}
