{
 "cells": [
  {
   "cell_type": "code",
   "execution_count": 1,
   "id": "6e17fb50",
   "metadata": {},
   "outputs": [],
   "source": [
    "import os, shutil\n",
    "import numpy as np\n",
    "import pandas as pd\n",
    "import matplotlib.pyplot as plt\n",
    "from PIL import Image\n",
    "\n",
    "## Load Data\n",
    "df_train = pd.read_csv('./data/train_df.csv')\n",
    "df_test = pd.read_csv('./data/test_df.csv')\n",
    "\n",
    "## label list\n",
    "labelList = df_train['label'].unique()\n",
    "labelList\n",
    "\n",
    "# 작업할 폴더\n",
    "original_dataset_dir = './data/train'\n",
    "\n",
    "# 저장할 폴더\n",
    "base_dir = 'data/class_model_full'\n",
    "os.mkdir(base_dir)\n",
    "\n",
    "# Dir 만들기 (이미 만들어져있으면, 오류나요)\n",
    "train_dir = os.path.join(base_dir,'train')\n",
    "os.mkdir(train_dir)\n",
    "validation_dir = os.path.join(base_dir,'validation')\n",
    "os.mkdir(validation_dir)\n",
    "\n",
    "# label별로 3:7 비율로 dir에 저장\n",
    "for d_path in [train_dir, validation_dir]:\n",
    "\n",
    "    for l_name in labelList:    \n",
    "        label_df = df_train[df_train['label']==l_name].reset_index()\n",
    "        \n",
    "        for idx, l_row in label_df.iterrows() :\n",
    "            src = os.path.join(original_dataset_dir, l_row.file_name).replace('\\\\','/')\n",
    "            \n",
    "            if idx <= len(label_df)//3:\n",
    "                dst = os.path.join(validation_dir, l_row.file_name).replace('\\\\','/')\n",
    "            else :\n",
    "                dst = os.path.join(train_dir, l_row.file_name).replace('\\\\','/')\n",
    "                \n",
    "            shutil.copyfile(src,dst)\n",
    "\n",
    "# train : 2788 \n",
    "# validation : 1489"
   ]
  },
  {
   "cell_type": "code",
   "execution_count": 4,
   "id": "6d95fdc7",
   "metadata": {},
   "outputs": [
    {
     "name": "stdout",
     "output_type": "stream",
     "text": [
      "15\n",
      "2788\n",
      "1489\n"
     ]
    }
   ],
   "source": [
    "import os, shutil\n",
    "import numpy as np\n",
    "import pandas as pd\n",
    "\n",
    "train_df = pd.read_csv(\"./data/train_df.csv\")\n",
    "class_list = train_df[\"class\"].unique().tolist()\n",
    "print(len(class_list))  # type = list\n",
    "\n",
    "## lable 별 directory 생성\n",
    "def createFolder(directory):\n",
    "    try:\n",
    "        if not os.path.exists(directory):\n",
    "            os.makedirs(directory)\n",
    "    except OSError:\n",
    "        print ('Error: Creating directory. ' +  directory)\n",
    "\n",
    "for d_path in ['train','validation']:\n",
    "    dir_path = os.path.join('./data/class_model_full/', d_path)\n",
    "    \n",
    "    for i in range(len(class_list)):  # 레이블 개수 만큼 \n",
    "        createFolder(os.path.join(dir_path,class_list[i]))  # 레이블 폴더를 생성\n",
    "        \n",
    "    train_folder = os.listdir(dir_path)\n",
    "    print(len(train_folder)-15)  # 폴더개수 88\n",
    "\n",
    "    ## 파일 이동 실행\n",
    "    for i in range(len(train_folder)):  # 폴더 생성한것 88개 뺴주는 겁니다. : 코랩, AWS는 제외\n",
    "\n",
    "        if train_folder[i][-3:] == \"png\":   # 확장자가 png면 \n",
    "            class_label = train_df[train_df[\"file_name\"] == f\"{train_folder[i]}\"].iloc[0]['class']\n",
    "            file_source = os.path.join(dir_path,train_folder[i]) # train 폴더에 있는 해당 이미지를\n",
    "            file_destination = os.path.join(dir_path,class_label)  # 해당 label 폴더로 이동 \n",
    "            shutil.move(file_source, file_destination)  # 이동 실행\n",
    "    "
   ]
  },
  {
   "cell_type": "code",
   "execution_count": null,
   "id": "017c5d79",
   "metadata": {},
   "outputs": [],
   "source": []
  }
 ],
 "metadata": {
  "kernelspec": {
   "display_name": "Python [conda env:machine_TF2] *",
   "language": "python",
   "name": "conda-env-machine_TF2-py"
  },
  "language_info": {
   "codemirror_mode": {
    "name": "ipython",
    "version": 3
   },
   "file_extension": ".py",
   "mimetype": "text/x-python",
   "name": "python",
   "nbconvert_exporter": "python",
   "pygments_lexer": "ipython3",
   "version": "3.8.13"
  }
 },
 "nbformat": 4,
 "nbformat_minor": 5
}
