{
  "cells": [
    {
      "cell_type": "code",
      "source": [
        "from google import colab\n",
        "colab.drive.mount(\"/content/drive\")"
      ],
      "metadata": {
        "colab": {
          "base_uri": "https://localhost:8080/"
        },
        "id": "_-WG94kK7V9p",
        "outputId": "b7c710cf-9278-4504-ba52-00c87f007523"
      },
      "id": "_-WG94kK7V9p",
      "execution_count": 1,
      "outputs": [
        {
          "output_type": "stream",
          "name": "stdout",
          "text": [
            "Mounted at /content/drive\n"
          ]
        }
      ]
    },
    {
      "cell_type": "code",
      "source": [
        "! pip install timm"
      ],
      "metadata": {
        "id": "LDacldMA7ptp"
      },
      "id": "LDacldMA7ptp",
      "execution_count": null,
      "outputs": []
    },
    {
      "cell_type": "code",
      "execution_count": 3,
      "metadata": {
        "id": "LlcNsGEk7L5r"
      },
      "outputs": [],
      "source": [
        "import warnings\n",
        "warnings.filterwarnings('ignore')\n",
        "\n",
        "from glob import glob\n",
        "import pandas as pd\n",
        "import numpy as np \n",
        "from tqdm import tqdm\n",
        "import cv2\n",
        "\n",
        "import os\n",
        "import timm\n",
        "import random\n",
        "\n",
        "import torch\n",
        "from torch.utils.data import Dataset, DataLoader\n",
        "import torch.nn as nn\n",
        "import torchvision.transforms as transforms\n",
        "from sklearn.metrics import f1_score, accuracy_score\n",
        "import time\n",
        "\n",
        "from sklearn.model_selection import StratifiedKFold\n",
        "device = torch.device('cuda')"
      ],
      "id": "LlcNsGEk7L5r"
    },
    {
      "cell_type": "code",
      "source": [
        "path = '/content/drive/MyDrive/Colab Notebooks/Dacon/Anomaly/'"
      ],
      "metadata": {
        "id": "lXH5F_hA7uMl"
      },
      "id": "lXH5F_hA7uMl",
      "execution_count": 4,
      "outputs": []
    },
    {
      "cell_type": "code",
      "execution_count": 5,
      "metadata": {
        "id": "FWntO1VD7L5u"
      },
      "outputs": [],
      "source": [
        "train_png = sorted(glob(path + 'open/train/*.png'))\n",
        "test_png = sorted(glob(path + 'open/test/*.png'))"
      ],
      "id": "FWntO1VD7L5u"
    },
    {
      "cell_type": "code",
      "source": [
        "len(train_png), len(test_png)"
      ],
      "metadata": {
        "colab": {
          "base_uri": "https://localhost:8080/"
        },
        "id": "atSgPJRn-OCW",
        "outputId": "87b6f90b-5c1c-4a0e-de54-994458543687"
      },
      "id": "atSgPJRn-OCW",
      "execution_count": 6,
      "outputs": [
        {
          "output_type": "execute_result",
          "data": {
            "text/plain": [
              "(4277, 2154)"
            ]
          },
          "metadata": {},
          "execution_count": 6
        }
      ]
    },
    {
      "cell_type": "code",
      "execution_count": 7,
      "metadata": {
        "id": "xv0_rDVq7L5v"
      },
      "outputs": [],
      "source": [
        "train_y = pd.read_csv(path +\"open/train_df.csv\")\n",
        "\n",
        "train_labels = train_y[\"label\"]\n",
        "\n",
        "label_unique = sorted(np.unique(train_labels))\n",
        "label_unique = {key:value for key,value in zip(label_unique, range(len(label_unique)))}\n",
        "\n",
        "train_labels = [label_unique[k] for k in train_labels]"
      ],
      "id": "xv0_rDVq7L5v"
    },
    {
      "cell_type": "code",
      "execution_count": null,
      "metadata": {
        "id": "iMhC0nPw7L5w"
      },
      "outputs": [],
      "source": [
        "def img_load(path):\n",
        "    img = cv2.imread(path)[:,:,::-1]\n",
        "    img = cv2.resize(img, (384, 384),interpolation = cv2.INTER_AREA)\n",
        "    return img"
      ],
      "id": "iMhC0nPw7L5w"
    },
    {
      "cell_type": "code",
      "execution_count": null,
      "metadata": {
        "colab": {
          "base_uri": "https://localhost:8080/"
        },
        "id": "zsmJA3E97L5x",
        "outputId": "e0dc61fe-5617-42e8-c8b0-0e95b9f60656"
      },
      "outputs": [
        {
          "output_type": "stream",
          "name": "stderr",
          "text": [
            "100%|██████████| 4277/4277 [02:28<00:00, 28.80it/s]\n",
            "100%|██████████| 2154/2154 [01:12<00:00, 29.79it/s]\n"
          ]
        }
      ],
      "source": [
        "train_imgs = [img_load(m) for m in tqdm(train_png)]\n",
        "test_imgs = [img_load(n) for n in tqdm(test_png)]"
      ],
      "id": "zsmJA3E97L5x"
    },
    {
      "cell_type": "code",
      "source": [
        "np.save(path + 'train_imgs_384', np.array(train_imgs))\n",
        "np.save(path + 'test_imgs_384', np.array(test_imgs))"
      ],
      "metadata": {
        "id": "KA73Lku9A2N9"
      },
      "id": "KA73Lku9A2N9",
      "execution_count": null,
      "outputs": []
    },
    {
      "cell_type": "code",
      "source": [
        "train_imgs = np.load(path + 'train_imgs_384.npy')\n",
        "test_imgs = np.load(path + 'test_imgs_384.npy')"
      ],
      "metadata": {
        "id": "L6qBdX7nCp8L"
      },
      "id": "L6qBdX7nCp8L",
      "execution_count": 8,
      "outputs": []
    },
    {
      "cell_type": "code",
      "source": [
        "meanRGB = [np.mean(x, axis=(0,1)) for x in train_imgs]\n",
        "stdRGB = [np.std(x, axis=(0,1)) for x in train_imgs]\n",
        "\n",
        "meanR = np.mean([m[0] for m in meanRGB])/255\n",
        "meanG = np.mean([m[1] for m in meanRGB])/255\n",
        "meanB = np.mean([m[2] for m in meanRGB])/255\n",
        "\n",
        "stdR = np.mean([s[0] for s in stdRGB])/255\n",
        "stdG = np.mean([s[1] for s in stdRGB])/255\n",
        "stdB = np.mean([s[2] for s in stdRGB])/255\n",
        "\n",
        "print(\"train 평균\",meanR, meanG, meanB)\n",
        "print(\"train 표준편차\",stdR, stdG, stdB)"
      ],
      "metadata": {
        "colab": {
          "base_uri": "https://localhost:8080/"
        },
        "id": "sscGLiJKPy6H",
        "outputId": "976516c0-507d-458f-f0c4-6695751605d6"
      },
      "id": "sscGLiJKPy6H",
      "execution_count": 9,
      "outputs": [
        {
          "output_type": "stream",
          "name": "stdout",
          "text": [
            "train 평균 0.4330380901867049 0.4034575319032911 0.39415050509784405\n",
            "train 표준편차 0.1815717110252788 0.17403455556798705 0.16323395055036488\n"
          ]
        }
      ]
    },
    {
      "cell_type": "code",
      "source": [
        "meanRGB = [np.mean(x, axis=(0,1)) for x in test_imgs]\n",
        "stdRGB = [np.std(x, axis=(0,1)) for x in test_imgs]\n",
        "\n",
        "meanR = np.mean([m[0] for m in meanRGB])/255\n",
        "meanG = np.mean([m[1] for m in meanRGB])/255\n",
        "meanB = np.mean([m[2] for m in meanRGB])/255\n",
        "\n",
        "stdR = np.mean([s[0] for s in stdRGB])/255\n",
        "stdG = np.mean([s[1] for s in stdRGB])/255\n",
        "stdB = np.mean([s[2] for s in stdRGB])/255\n",
        "\n",
        "print(\"test 평균\",meanR, meanG, meanB)\n",
        "print(\"test 표준편차\",stdR, stdG, stdB)"
      ],
      "metadata": {
        "colab": {
          "base_uri": "https://localhost:8080/"
        },
        "id": "JwVIQCrUSCFE",
        "outputId": "293981ef-7f6a-4602-d208-5fd8473d5261"
      },
      "id": "JwVIQCrUSCFE",
      "execution_count": 10,
      "outputs": [
        {
          "output_type": "stream",
          "name": "stdout",
          "text": [
            "test 평균 0.41825619520929724 0.3931011906330291 0.386631764639131\n",
            "test 표준편차 0.19505524270747931 0.19005280951759498 0.18053225852732663\n"
          ]
        }
      ]
    },
    {
      "cell_type": "code",
      "execution_count": 11,
      "metadata": {
        "id": "VFXzojoo7L5y"
      },
      "outputs": [],
      "source": [
        "class Custom_dataset(Dataset):\n",
        "    def __init__(self, img_paths, labels, mode='train'):\n",
        "        self.img_paths = img_paths\n",
        "        self.labels = labels\n",
        "        self.mode=mode\n",
        "    def __len__(self):\n",
        "        return len(self.img_paths)\n",
        "    def __getitem__(self, idx):\n",
        "        img = self.img_paths[idx]\n",
        "        if self.mode == 'train':\n",
        "          train_transform = transforms.Compose([\n",
        "                transforms.ToTensor(),\n",
        "                transforms.Normalize(mean = [0.433038, 0.403458, 0.394151],\n",
        "                                     std = [0.181572, 0.174035, 0.163234]),\n",
        "                transforms.RandomAffine((-45, 45)),\n",
        "                \n",
        "            ])\n",
        "          img = train_transform(img)\n",
        "        if self.mode == 'test':\n",
        "          test_transform = transforms.Compose([\n",
        "                transforms.ToTensor(),\n",
        "                transforms.Normalize(mean = [0.418256, 0.393101, 0.386632],\n",
        "                                     std = [0.195055, 0.190053, 0.185323])\n",
        "            ])\n",
        "          img = test_transform(img)\n",
        "\n",
        "        \n",
        "        label = self.labels[idx]\n",
        "        return img, label\n",
        "    \n",
        "class Network(nn.Module):\n",
        "    def __init__(self,mode = 'train'):\n",
        "        super(Network, self).__init__()\n",
        "        self.mode = mode\n",
        "        if self.mode == 'train':\n",
        "          self.model = timm.create_model('efficientnet_b3', pretrained=True, num_classes=88, drop_path_rate = 0.2)\n",
        "        if self.mode == 'test':\n",
        "          self.model = timm.create_model('efficientnet_b3', pretrained=True, num_classes=88, drop_path_rate = 0)\n",
        "        \n",
        "    def forward(self, x):\n",
        "        x = self.model(x)\n",
        "        return x"
      ],
      "id": "VFXzojoo7L5y"
    },
    {
      "cell_type": "code",
      "source": [
        "def score_function(real, pred):\n",
        "    score = f1_score(real, pred, average=\"macro\")\n",
        "    return score"
      ],
      "metadata": {
        "id": "38qk8sGbYiO_"
      },
      "id": "38qk8sGbYiO_",
      "execution_count": 12,
      "outputs": []
    },
    {
      "cell_type": "code",
      "source": [
        "def main(seed = 2022):\n",
        "    os.environ['PYTHONHASHSEED'] = str(seed)\n",
        "    random.seed(seed)\n",
        "    np.random.seed(seed)\n",
        "    torch.manual_seed(seed)\n",
        "    torch.cuda.manual_seed(seed)\n",
        "    torch.cuda.manual_seed_all(seed)\n",
        "    torch.backends.cudnn.benchmark = True\n",
        "    \n",
        "main(2022)"
      ],
      "metadata": {
        "id": "EnOG2n30-Dz5"
      },
      "id": "EnOG2n30-Dz5",
      "execution_count": 13,
      "outputs": []
    },
    {
      "cell_type": "code",
      "source": [
        "import gc\n",
        "\n",
        "cv = StratifiedKFold(n_splits = 5, random_state = 2022,shuffle=True)\n",
        "batch_size = 32\n",
        "epochs = 70\n",
        "pred_ensemble = []\n",
        "\n",
        "\n",
        "for idx, (train_idx, val_idx) in enumerate(cv.split(train_imgs, np.array(train_labels))):\n",
        "  print(\"----------fold_{} start!----------\".format(idx))\n",
        "  t_imgs, val_imgs = train_imgs[train_idx],  train_imgs[val_idx]\n",
        "  t_labels, val_labels = np.array(train_labels)[train_idx], np.array(train_labels)[val_idx]\n",
        "\n",
        "  # Train\n",
        "  train_dataset = Custom_dataset(np.array(t_imgs), np.array(t_labels), mode='train')\n",
        "  train_loader = DataLoader(train_dataset, shuffle=True, batch_size=batch_size)\n",
        "\n",
        "  # Val\n",
        "  val_dataset = Custom_dataset(np.array(val_imgs), np.array(val_labels), mode='test')\n",
        "  val_loader = DataLoader(val_dataset, shuffle=True, batch_size=batch_size)\n",
        "\n",
        "  gc.collect()\n",
        "  torch.cuda.empty_cache()\n",
        "  best=0\n",
        "\n",
        "  model = Network().to(device)\n",
        "\n",
        "  optimizer = torch.optim.AdamW(model.parameters(), lr=2e-4, weight_decay = 2e-2)\n",
        "  criterion = nn.CrossEntropyLoss()\n",
        "  scaler = torch.cuda.amp.GradScaler()  \n",
        "\n",
        "  best_f1 = 0\n",
        "  early_stopping = 0\n",
        "  for epoch in range(epochs):\n",
        "    start=time.time()\n",
        "    train_loss = 0\n",
        "    train_pred=[]\n",
        "    train_y=[]\n",
        "    model.train()\n",
        "    for batch in (train_loader):\n",
        "        optimizer.zero_grad()\n",
        "        x = torch.tensor(batch[0], dtype=torch.float32, device=device)\n",
        "        y = torch.tensor(batch[1], dtype=torch.long, device=device)\n",
        "        with torch.cuda.amp.autocast():\n",
        "            pred = model(x)\n",
        "        loss = criterion(pred, y)\n",
        "\n",
        "\n",
        "        scaler.scale(loss).backward()\n",
        "        scaler.step(optimizer)\n",
        "        scaler.update()\n",
        "        \n",
        "        train_loss += loss.item()/len(train_loader)\n",
        "        train_pred += pred.argmax(1).detach().cpu().numpy().tolist()\n",
        "        train_y += y.detach().cpu().numpy().tolist()\n",
        "    train_f1 = score_function(train_y, train_pred)\n",
        "    state_dict= model.state_dict()\n",
        "    model.eval()\n",
        "    with torch.no_grad():\n",
        "      val_loss = 0 \n",
        "      val_pred = []\n",
        "      val_y = []\n",
        "      \n",
        "\n",
        "      for batch in (val_loader):\n",
        "        x_val = torch.tensor(batch[0], dtype = torch.float32, device = device)\n",
        "        y_val = torch.tensor(batch[1], dtype=torch.long, device=device)\n",
        "        with torch.cuda.amp.autocast():\n",
        "            pred_val = model(x_val)\n",
        "        loss_val = criterion(pred_val, y_val)\n",
        "\n",
        "        val_loss += loss_val.item()/len(val_loader)\n",
        "        val_pred += pred_val.argmax(1).detach().cpu().numpy().tolist()\n",
        "        val_y += y_val.detach().cpu().numpy().tolist()\n",
        "      val_f1 = score_function(val_y, val_pred)\n",
        "\n",
        "      if val_f1 > best_f1:\n",
        "        best_epoch = epoch\n",
        "        best_loss = val_loss\n",
        "        best_f1 = val_f1\n",
        "        early_stopping = 0\n",
        "\n",
        "        torch.save({'epoch':epoch,\n",
        "                    'state_dict':state_dict,\n",
        "                    'optimizer': optimizer.state_dict(),\n",
        "                    'scaler': scaler.state_dict(),\n",
        "             }, path +'best_model_{}.pth'.format(idx))\n",
        "        print('-----------------SAVE:{} epoch----------------'.format(best_epoch+1))\n",
        "      else:\n",
        "          early_stopping += 1\n",
        "\n",
        "            # Early Stopping\n",
        "      if early_stopping == 20:\n",
        "        TIME = time.time() - start\n",
        "        print(f'epoch : {epoch+1}/{epochs}    time : {TIME:.0f}s/{TIME*(epochs-epoch-1):.0f}s')\n",
        "        print(f'TRAIN    loss : {train_loss:.5f}    f1 : {train_f1:.5f}')\n",
        "        print(f'Val    loss : {val_loss:.5f}    f1 : {val_f1:.5f}')\n",
        "        break\n",
        "\n",
        "    TIME = time.time() - start\n",
        "    print(f'epoch : {epoch+1}/{epochs}    time : {TIME:.0f}s/{TIME*(epochs-epoch-1):.0f}s')\n",
        "    print(f'TRAIN    loss : {train_loss:.5f}    f1 : {train_f1:.5f}')\n",
        "    print(f'Val    loss : {val_loss:.5f}    f1 : {val_f1:.5f}')"
      ],
      "metadata": {
        "id": "lkNCkyG9RPzX"
      },
      "id": "lkNCkyG9RPzX",
      "execution_count": null,
      "outputs": []
    },
    {
      "cell_type": "code",
      "source": [
        "pred_ensemble = []\n",
        "batch_size = 32\n",
        "# Test\n",
        "test_dataset = Custom_dataset(np.array(test_imgs), np.array([\"tmp\"]*len(test_imgs)), mode='test')\n",
        "test_loader = DataLoader(test_dataset, shuffle=False, batch_size=batch_size)\n",
        "\n",
        "for i in range(5):\n",
        "  model_test = Network(mode = 'test').to(device)\n",
        "  model_test.load_state_dict(torch.load((path+'best_model_{}.pth'.format(i)))['state_dict'])\n",
        "  model_test.eval()\n",
        "  pred_prob = []\n",
        "  with torch.no_grad():\n",
        "      for batch in (test_loader):\n",
        "          x = torch.tensor(batch[0], dtype = torch.float32, device = device)\n",
        "          with torch.cuda.amp.autocast():\n",
        "              pred = model_test(x)\n",
        "              pred_prob.extend(pred.detach().cpu().numpy())\n",
        "      pred_ensemble.append(pred_prob)"
      ],
      "metadata": {
        "colab": {
          "base_uri": "https://localhost:8080/"
        },
        "id": "Jl2OKpQiO5S1",
        "outputId": "e48def07-ef6d-4325-f297-c705088b3eb8"
      },
      "id": "Jl2OKpQiO5S1",
      "execution_count": 13,
      "outputs": [
        {
          "output_type": "stream",
          "name": "stderr",
          "text": [
            "Downloading: \"https://github.com/rwightman/pytorch-image-models/releases/download/v0.1-weights/efficientnet_b3_ra2-cf984f9c.pth\" to /root/.cache/torch/hub/checkpoints/efficientnet_b3_ra2-cf984f9c.pth\n"
          ]
        }
      ]
    },
    {
      "cell_type": "code",
      "source": [
        "len(pred_ensemble)"
      ],
      "metadata": {
        "colab": {
          "base_uri": "https://localhost:8080/"
        },
        "id": "seat84vNOOtT",
        "outputId": "71c853b2-29c3-430e-e4d0-cb1a66e11196"
      },
      "id": "seat84vNOOtT",
      "execution_count": 47,
      "outputs": [
        {
          "output_type": "execute_result",
          "data": {
            "text/plain": [
              "5"
            ]
          },
          "metadata": {},
          "execution_count": 47
        }
      ]
    },
    {
      "cell_type": "code",
      "source": [
        "pred = (np.array(pred_ensemble[0])+ np.array(pred_ensemble[1])+ np.array(pred_ensemble[3]) + np.array(pred_ensemble[4]) )/4\n",
        "f_pred = np.array(pred).argmax(1).tolist()"
      ],
      "metadata": {
        "id": "GjsHs-T3SPJq"
      },
      "id": "GjsHs-T3SPJq",
      "execution_count": 29,
      "outputs": []
    },
    {
      "cell_type": "code",
      "execution_count": 30,
      "metadata": {
        "id": "UIglTwAV7L54"
      },
      "outputs": [],
      "source": [
        "label_decoder = {val:key for key, val in label_unique.items()}\n",
        "\n",
        "f_result = [label_decoder[result] for result in f_pred]"
      ],
      "id": "UIglTwAV7L54"
    },
    {
      "cell_type": "code",
      "source": [
        "submission = pd.read_csv(path + \"open/sample_submission.csv\")\n",
        "\n",
        "submission[\"label\"] = f_result\n",
        "\n",
        "submission"
      ],
      "metadata": {
        "colab": {
          "base_uri": "https://localhost:8080/",
          "height": 423
        },
        "id": "292QDIS5DOKf",
        "outputId": "0e47d38f-d36a-40cd-a925-90e6bce52652"
      },
      "id": "292QDIS5DOKf",
      "execution_count": 31,
      "outputs": [
        {
          "output_type": "execute_result",
          "data": {
            "text/plain": [
              "      index             label\n",
              "0         0   tile-glue_strip\n",
              "1         1         grid-good\n",
              "2         2   transistor-good\n",
              "3         3  tile-gray_stroke\n",
              "4         4         tile-good\n",
              "...     ...               ...\n",
              "2149   2149  tile-gray_stroke\n",
              "2150   2150        screw-good\n",
              "2151   2151         grid-good\n",
              "2152   2152        cable-good\n",
              "2153   2153       zipper-good\n",
              "\n",
              "[2154 rows x 2 columns]"
            ],
            "text/html": [
              "\n",
              "  <div id=\"df-2aaeabaf-842a-42d3-87bb-51b5a7164791\">\n",
              "    <div class=\"colab-df-container\">\n",
              "      <div>\n",
              "<style scoped>\n",
              "    .dataframe tbody tr th:only-of-type {\n",
              "        vertical-align: middle;\n",
              "    }\n",
              "\n",
              "    .dataframe tbody tr th {\n",
              "        vertical-align: top;\n",
              "    }\n",
              "\n",
              "    .dataframe thead th {\n",
              "        text-align: right;\n",
              "    }\n",
              "</style>\n",
              "<table border=\"1\" class=\"dataframe\">\n",
              "  <thead>\n",
              "    <tr style=\"text-align: right;\">\n",
              "      <th></th>\n",
              "      <th>index</th>\n",
              "      <th>label</th>\n",
              "    </tr>\n",
              "  </thead>\n",
              "  <tbody>\n",
              "    <tr>\n",
              "      <th>0</th>\n",
              "      <td>0</td>\n",
              "      <td>tile-glue_strip</td>\n",
              "    </tr>\n",
              "    <tr>\n",
              "      <th>1</th>\n",
              "      <td>1</td>\n",
              "      <td>grid-good</td>\n",
              "    </tr>\n",
              "    <tr>\n",
              "      <th>2</th>\n",
              "      <td>2</td>\n",
              "      <td>transistor-good</td>\n",
              "    </tr>\n",
              "    <tr>\n",
              "      <th>3</th>\n",
              "      <td>3</td>\n",
              "      <td>tile-gray_stroke</td>\n",
              "    </tr>\n",
              "    <tr>\n",
              "      <th>4</th>\n",
              "      <td>4</td>\n",
              "      <td>tile-good</td>\n",
              "    </tr>\n",
              "    <tr>\n",
              "      <th>...</th>\n",
              "      <td>...</td>\n",
              "      <td>...</td>\n",
              "    </tr>\n",
              "    <tr>\n",
              "      <th>2149</th>\n",
              "      <td>2149</td>\n",
              "      <td>tile-gray_stroke</td>\n",
              "    </tr>\n",
              "    <tr>\n",
              "      <th>2150</th>\n",
              "      <td>2150</td>\n",
              "      <td>screw-good</td>\n",
              "    </tr>\n",
              "    <tr>\n",
              "      <th>2151</th>\n",
              "      <td>2151</td>\n",
              "      <td>grid-good</td>\n",
              "    </tr>\n",
              "    <tr>\n",
              "      <th>2152</th>\n",
              "      <td>2152</td>\n",
              "      <td>cable-good</td>\n",
              "    </tr>\n",
              "    <tr>\n",
              "      <th>2153</th>\n",
              "      <td>2153</td>\n",
              "      <td>zipper-good</td>\n",
              "    </tr>\n",
              "  </tbody>\n",
              "</table>\n",
              "<p>2154 rows × 2 columns</p>\n",
              "</div>\n",
              "      <button class=\"colab-df-convert\" onclick=\"convertToInteractive('df-2aaeabaf-842a-42d3-87bb-51b5a7164791')\"\n",
              "              title=\"Convert this dataframe to an interactive table.\"\n",
              "              style=\"display:none;\">\n",
              "        \n",
              "  <svg xmlns=\"http://www.w3.org/2000/svg\" height=\"24px\"viewBox=\"0 0 24 24\"\n",
              "       width=\"24px\">\n",
              "    <path d=\"M0 0h24v24H0V0z\" fill=\"none\"/>\n",
              "    <path d=\"M18.56 5.44l.94 2.06.94-2.06 2.06-.94-2.06-.94-.94-2.06-.94 2.06-2.06.94zm-11 1L8.5 8.5l.94-2.06 2.06-.94-2.06-.94L8.5 2.5l-.94 2.06-2.06.94zm10 10l.94 2.06.94-2.06 2.06-.94-2.06-.94-.94-2.06-.94 2.06-2.06.94z\"/><path d=\"M17.41 7.96l-1.37-1.37c-.4-.4-.92-.59-1.43-.59-.52 0-1.04.2-1.43.59L10.3 9.45l-7.72 7.72c-.78.78-.78 2.05 0 2.83L4 21.41c.39.39.9.59 1.41.59.51 0 1.02-.2 1.41-.59l7.78-7.78 2.81-2.81c.8-.78.8-2.07 0-2.86zM5.41 20L4 18.59l7.72-7.72 1.47 1.35L5.41 20z\"/>\n",
              "  </svg>\n",
              "      </button>\n",
              "      \n",
              "  <style>\n",
              "    .colab-df-container {\n",
              "      display:flex;\n",
              "      flex-wrap:wrap;\n",
              "      gap: 12px;\n",
              "    }\n",
              "\n",
              "    .colab-df-convert {\n",
              "      background-color: #E8F0FE;\n",
              "      border: none;\n",
              "      border-radius: 50%;\n",
              "      cursor: pointer;\n",
              "      display: none;\n",
              "      fill: #1967D2;\n",
              "      height: 32px;\n",
              "      padding: 0 0 0 0;\n",
              "      width: 32px;\n",
              "    }\n",
              "\n",
              "    .colab-df-convert:hover {\n",
              "      background-color: #E2EBFA;\n",
              "      box-shadow: 0px 1px 2px rgba(60, 64, 67, 0.3), 0px 1px 3px 1px rgba(60, 64, 67, 0.15);\n",
              "      fill: #174EA6;\n",
              "    }\n",
              "\n",
              "    [theme=dark] .colab-df-convert {\n",
              "      background-color: #3B4455;\n",
              "      fill: #D2E3FC;\n",
              "    }\n",
              "\n",
              "    [theme=dark] .colab-df-convert:hover {\n",
              "      background-color: #434B5C;\n",
              "      box-shadow: 0px 1px 3px 1px rgba(0, 0, 0, 0.15);\n",
              "      filter: drop-shadow(0px 1px 2px rgba(0, 0, 0, 0.3));\n",
              "      fill: #FFFFFF;\n",
              "    }\n",
              "  </style>\n",
              "\n",
              "      <script>\n",
              "        const buttonEl =\n",
              "          document.querySelector('#df-2aaeabaf-842a-42d3-87bb-51b5a7164791 button.colab-df-convert');\n",
              "        buttonEl.style.display =\n",
              "          google.colab.kernel.accessAllowed ? 'block' : 'none';\n",
              "\n",
              "        async function convertToInteractive(key) {\n",
              "          const element = document.querySelector('#df-2aaeabaf-842a-42d3-87bb-51b5a7164791');\n",
              "          const dataTable =\n",
              "            await google.colab.kernel.invokeFunction('convertToInteractive',\n",
              "                                                     [key], {});\n",
              "          if (!dataTable) return;\n",
              "\n",
              "          const docLinkHtml = 'Like what you see? Visit the ' +\n",
              "            '<a target=\"_blank\" href=https://colab.research.google.com/notebooks/data_table.ipynb>data table notebook</a>'\n",
              "            + ' to learn more about interactive tables.';\n",
              "          element.innerHTML = '';\n",
              "          dataTable['output_type'] = 'display_data';\n",
              "          await google.colab.output.renderOutput(dataTable, element);\n",
              "          const docLink = document.createElement('div');\n",
              "          docLink.innerHTML = docLinkHtml;\n",
              "          element.appendChild(docLink);\n",
              "        }\n",
              "      </script>\n",
              "    </div>\n",
              "  </div>\n",
              "  "
            ]
          },
          "metadata": {},
          "execution_count": 31
        }
      ]
    },
    {
      "cell_type": "code",
      "execution_count": 32,
      "metadata": {
        "id": "1naZSLGZ7L55"
      },
      "outputs": [],
      "source": [
        "submission.to_csv(path + \"b3_norm_epoch70_4_2.csv\", index = False)"
      ],
      "id": "1naZSLGZ7L55"
    },
    {
      "cell_type": "markdown",
      "metadata": {
        "id": "p87_msjB7L51"
      },
      "source": [
        "### 모델 학습"
      ],
      "id": "p87_msjB7L51"
    },
    {
      "cell_type": "markdown",
      "source": [
        "사전 학습 모델의 성능 파악을 할 때 Fold 학습은 실행 시간이 오래걸려서 fold를 나누지 않은 데이터에 대해서 학습을 진행하고 성능을 비교하였습니다."
      ],
      "metadata": {
        "id": "MW9Fx7QADii5"
      },
      "id": "MW9Fx7QADii5"
    },
    {
      "cell_type": "code",
      "execution_count": 18,
      "metadata": {
        "id": "syUpL8e_7L50"
      },
      "outputs": [],
      "source": [
        "batch_size = 32\n",
        "epochs = 30\n",
        "\n",
        "# Train\n",
        "train_dataset = Custom_dataset(np.array(train_imgs), np.array(train_labels), mode='train')\n",
        "train_loader = DataLoader(train_dataset, shuffle=True, batch_size=batch_size)\n",
        "\n",
        "# Test\n",
        "test_dataset = Custom_dataset(np.array(test_imgs), np.array([\"tmp\"]*len(test_imgs)), mode='test')\n",
        "test_loader = DataLoader(test_dataset, shuffle=False, batch_size=batch_size)"
      ],
      "id": "syUpL8e_7L50"
    },
    {
      "cell_type": "code",
      "source": [
        "import gc\n",
        "gc.collect()\n",
        "torch.cuda.empty_cache()"
      ],
      "metadata": {
        "id": "cJc8Yj7zrh4g"
      },
      "id": "cJc8Yj7zrh4g",
      "execution_count": 19,
      "outputs": []
    },
    {
      "cell_type": "code",
      "execution_count": null,
      "metadata": {
        "id": "tpCGp41k7L51"
      },
      "outputs": [],
      "source": [
        "def score_function(real, pred):\n",
        "    score = f1_score(real, pred, average=\"macro\")\n",
        "    return score\n",
        "\n",
        "model = Network().to(device)\n",
        "\n",
        "optimizer = torch.optim.AdamW(model.parameters(), lr=5e-5, weight_decay = 1e-3)\n",
        "criterion = nn.CrossEntropyLoss()\n",
        "scaler = torch.cuda.amp.GradScaler() \n",
        "\n",
        "batch_size = 32\n",
        "epochs = 30\n",
        "\n",
        "best=0\n",
        "for epoch in range(epochs):\n",
        "    start=time.time()\n",
        "    train_loss = 0\n",
        "    train_pred=[]\n",
        "    train_y=[]\n",
        "    model.train()\n",
        "    for batch in (train_loader):\n",
        "        optimizer.zero_grad()\n",
        "        x = torch.tensor(batch[0], dtype=torch.float32, device=device)\n",
        "        y = torch.tensor(batch[1], dtype=torch.long, device=device)\n",
        "        with torch.cuda.amp.autocast():\n",
        "            pred = model(x)\n",
        "        loss = criterion(pred, y)\n",
        "\n",
        "\n",
        "        scaler.scale(loss).backward()\n",
        "        scaler.step(optimizer)\n",
        "        scaler.update()\n",
        "        \n",
        "        train_loss += loss.item()/len(train_loader)\n",
        "        train_pred += pred.argmax(1).detach().cpu().numpy().tolist()\n",
        "        train_y += y.detach().cpu().numpy().tolist()\n",
        "        \n",
        "    \n",
        "    train_f1 = score_function(train_y, train_pred)\n",
        "\n",
        "    TIME = time.time() - start\n",
        "    print(f'epoch : {epoch+1}/{epochs}    time : {TIME:.0f}s/{TIME*(epochs-epoch-1):.0f}s')\n",
        "    print(f'TRAIN    loss : {train_loss:.5f}    f1 : {train_f1:.5f}')"
      ],
      "id": "tpCGp41k7L51"
    },
    {
      "cell_type": "markdown",
      "metadata": {
        "id": "YssPW4xq7L53"
      },
      "source": [
        "### 추론"
      ],
      "id": "YssPW4xq7L53"
    },
    {
      "cell_type": "code",
      "execution_count": 80,
      "metadata": {
        "id": "1w_VB_PY7L53"
      },
      "outputs": [],
      "source": [
        "model.eval()\n",
        "f_pred = []\n",
        "pred_prob = []\n",
        "\n",
        "with torch.no_grad():\n",
        "    for batch in (test_loader):\n",
        "        x = torch.tensor(batch[0], dtype = torch.float32, device = device)\n",
        "        with torch.cuda.amp.autocast():\n",
        "            pred = model(x)\n",
        "            pred_prob.extend(pred.detach().cpu().numpy())\n",
        "        f_pred.extend(pred.argmax(1).detach().cpu().numpy().tolist())"
      ],
      "id": "1w_VB_PY7L53"
    },
    {
      "cell_type": "code",
      "source": [
        "label_decoder = {val:key for key, val in label_unique.items()}\n",
        "\n",
        "f_result = [label_decoder[result] for result in f_pred]"
      ],
      "metadata": {
        "id": "aZMML2u3DTHx"
      },
      "id": "aZMML2u3DTHx",
      "execution_count": null,
      "outputs": []
    },
    {
      "cell_type": "markdown",
      "metadata": {
        "id": "I4io2mJC7L54"
      },
      "source": [
        "### 제출물 생성"
      ],
      "id": "I4io2mJC7L54"
    },
    {
      "cell_type": "code",
      "execution_count": null,
      "metadata": {
        "id": "XCV3FEKe7L55"
      },
      "outputs": [],
      "source": [
        "submission = pd.read_csv(path + \"open/sample_submission.csv\")\n",
        "\n",
        "submission[\"label\"] = f_result\n",
        "\n",
        "submission"
      ],
      "id": "XCV3FEKe7L55"
    },
    {
      "cell_type": "code",
      "execution_count": null,
      "metadata": {
        "id": "jsl6tXbz7L56"
      },
      "outputs": [],
      "source": [
        "submission.to_csv(path + \" b3_norm.csv\", index = False)"
      ],
      "id": "jsl6tXbz7L56"
    }
  ],
  "metadata": {
    "kernelspec": {
      "display_name": "Python 3",
      "name": "python3"
    },
    "language_info": {
      "name": "python"
    },
    "colab": {
      "name": "[BASELINE]_EfficientNet_b3.ipynb",
      "provenance": [],
      "machine_shape": "hm",
      "collapsed_sections": []
    },
    "accelerator": "GPU"
  },
  "nbformat": 4,
  "nbformat_minor": 5
}