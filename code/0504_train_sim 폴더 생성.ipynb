{
 "cells": [
  {
   "cell_type": "markdown",
   "id": "c0177d12",
   "metadata": {},
   "source": [
    "## data형태를 cat-dog 예제처럼 만들기\n",
    "\n",
    "- valid를 증식형태로 쓰려면, 증식 사진을 저장해서 비교해야하는데? 아닌가 valid도 그냥 회전해서 Generate하면 되려나\n",
    "- train_ex 폴더 (: label 별로 분류되어있는 폴더) 를 가져와서 이름을 변경할것이다.\n",
    "- label별로 분류된 train_ex(example)폴더를 train_sim(similar) (: cat-dog와 비슷하게 )로 다시만들기\n",
    "- 예시 : bottle-broken_large_10204.png\n",
    "- 이름을 변경 -> 증식(회전 등) -> 폴더 나누기"
   ]
  },
  {
   "cell_type": "code",
   "execution_count": 4,
   "id": "c05f4d51",
   "metadata": {},
   "outputs": [],
   "source": [
    "import os"
   ]
  },
  {
   "cell_type": "code",
   "execution_count": 2,
   "id": "40407847",
   "metadata": {},
   "outputs": [
    {
     "data": {
      "text/plain": [
       "'./data/train_sim'"
      ]
     },
     "execution_count": 2,
     "metadata": {},
     "output_type": "execute_result"
    }
   ],
   "source": [
    "import shutil\n",
    "\n",
    "## 파일복사\n",
    "shutil.copytree(\"./data/train_ex\", \"./data/train_sim\")"
   ]
  },
  {
   "cell_type": "code",
   "execution_count": 11,
   "id": "3cb357ee",
   "metadata": {},
   "outputs": [],
   "source": [
    "## base폴더\n",
    "train_dir = './data/train_sim'\n",
    "\n",
    "## 이름변경\n",
    "for d_name in os.listdir(train_dir):\n",
    "    d_path = os.path.join(train_dir,d_name)\n",
    "    for f_name in os.listdir(d_path):\n",
    "        file_oldname = os.path.join(d_path, f_name)\n",
    "        file_newname = os.path.join(d_path, f'{d_name}_{f_name}')\n",
    "        os.rename(file_oldname, file_newname)\n",
    "        \n",
    "        \n",
    "#         if d_name == 'bottle-broken_large':\n",
    "#             print(file_oldname, file_newname)\n",
    "# img_path = os.path.join(train_dir,img)"
   ]
  },
  {
   "cell_type": "code",
   "execution_count": null,
   "id": "abc354df",
   "metadata": {},
   "outputs": [],
   "source": []
  },
  {
   "cell_type": "code",
   "execution_count": null,
   "id": "273bd65e",
   "metadata": {},
   "outputs": [],
   "source": []
  },
  {
   "cell_type": "code",
   "execution_count": null,
   "id": "c4c945a1",
   "metadata": {},
   "outputs": [],
   "source": []
  },
  {
   "cell_type": "code",
   "execution_count": null,
   "id": "e8b570d6",
   "metadata": {},
   "outputs": [],
   "source": []
  },
  {
   "cell_type": "code",
   "execution_count": null,
   "id": "8b09ae8e",
   "metadata": {},
   "outputs": [],
   "source": []
  }
 ],
 "metadata": {
  "kernelspec": {
   "display_name": "Python [conda env:machine_TF2] *",
   "language": "python",
   "name": "conda-env-machine_TF2-py"
  },
  "language_info": {
   "codemirror_mode": {
    "name": "ipython",
    "version": 3
   },
   "file_extension": ".py",
   "mimetype": "text/x-python",
   "name": "python",
   "nbconvert_exporter": "python",
   "pygments_lexer": "ipython3",
   "version": "3.8.13"
  }
 },
 "nbformat": 4,
 "nbformat_minor": 5
}
