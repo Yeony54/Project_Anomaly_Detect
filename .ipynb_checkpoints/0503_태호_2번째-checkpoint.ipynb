{
 "cells": [
  {
   "cell_type": "code",
   "execution_count": 1,
   "metadata": {
    "executionInfo": {
     "elapsed": 3642,
     "status": "ok",
     "timestamp": 1651645697387,
     "user": {
      "displayName": "김태호",
      "userId": "09193565713028953954"
     },
     "user_tz": -540
    },
    "id": "2lntrAgGHglZ"
   },
   "outputs": [],
   "source": [
    "import os\n",
    "import shutil\n",
    "import glob\n",
    "import cv2\n",
    "import numpy as np\n",
    "import pandas as pd\n",
    "\n",
    "import tensorflow as tf\n",
    "from tensorflow.keras.models import Sequential, Model\n",
    "from tensorflow.keras.layers import *\n",
    "from tensorflow.keras.optimizers import *\n",
    "from tensorflow.keras.applications import *\n",
    "from tensorflow.keras.callbacks import *\n",
    "from tensorflow.keras.initializers import *\n",
    "from tensorflow.keras.preprocessing.image import ImageDataGenerator"
   ]
  },
  {
   "cell_type": "code",
   "execution_count": null,
   "metadata": {
    "id": "qXs9hwrjxxiF"
   },
   "outputs": [],
   "source": []
  },
  {
   "cell_type": "code",
   "execution_count": null,
   "metadata": {
    "id": "_uwreeEPKRyQ"
   },
   "outputs": [],
   "source": [
    "train_dir = '/content/drive/MyDrive/Colab폴더/train_label'\n",
    "Batch_size = 7\n",
    "train_input_shape = (227, 227, 3)\n",
    "\n"
   ]
  },
  {
   "cell_type": "code",
   "execution_count": null,
   "metadata": {
    "colab": {
     "base_uri": "https://localhost:8080/"
    },
    "executionInfo": {
     "elapsed": 669,
     "status": "ok",
     "timestamp": 1651562197623,
     "user": {
      "displayName": "김태호",
      "userId": "09193565713028953954"
     },
     "user_tz": -540
    },
    "id": "vQti_J4EKADO",
    "outputId": "7cabb410-70ef-4add-9dba-af20b21fb8a7"
   },
   "outputs": [
    {
     "name": "stdout",
     "output_type": "stream",
     "text": [
      "Found 4277 images belonging to 88 classes.\n"
     ]
    }
   ],
   "source": [
    "train_datagen = ImageDataGenerator(rescale=1/255,\n",
    "                                   rotation_range=30,\n",
    "                                   width_shift_range=0.1,\n",
    "                                   height_shift_range=0.1,\n",
    "                                   zoom_range=0.2,\n",
    "                                   horizontal_flip=True,\n",
    "                                   vertical_flip=True,\n",
    "                                   fill_mode='nearest')\n",
    "\n",
    "valid_datagen = ImageDataGenerator(rescale=1/255)\n",
    "\n",
    "train_generator = train_datagen.flow_from_directory(train_dir,\n",
    "                                                    classes=['transistor-good', 'capsule-good', 'wood-good', 'bottle-good',\n",
    "       'screw-good', 'cable-bent_wire', 'carpet-hole', 'hazelnut-good',\n",
    "       'pill-pill_type', 'cable-good', 'metal_nut-scratch', 'pill-good',\n",
    "       'screw-thread_side', 'zipper-fabric_border', 'leather-good',\n",
    "       'pill-scratch', 'toothbrush-good', 'hazelnut-crack',\n",
    "       'screw-manipulated_front', 'zipper-good', 'tile-good',\n",
    "       'carpet-good', 'metal_nut-good', 'bottle-contamination',\n",
    "       'grid-good', 'zipper-split_teeth', 'pill-crack', 'wood-combined',\n",
    "       'pill-color', 'screw-thread_top', 'cable-missing_cable',\n",
    "       'capsule-squeeze', 'zipper-rough', 'capsule-crack', 'capsule-poke',\n",
    "       'metal_nut-flip', 'carpet-metal_contamination', 'metal_nut-color',\n",
    "       'transistor-bent_lead', 'zipper-fabric_interior', 'leather-fold',\n",
    "       'tile-glue_strip', 'screw-scratch_neck', 'screw-scratch_head',\n",
    "       'hazelnut-cut', 'bottle-broken_large', 'bottle-broken_small',\n",
    "       'leather-cut', 'cable-cut_outer_insulation',\n",
    "       'zipper-squeezed_teeth', 'toothbrush-defective',\n",
    "       'cable-cut_inner_insulation', 'pill-contamination',\n",
    "       'cable-missing_wire', 'carpet-thread', 'grid-broken',\n",
    "       'pill-faulty_imprint', 'hazelnut-hole', 'leather-glue',\n",
    "       'leather-poke', 'transistor-damaged_case', 'wood-scratch',\n",
    "       'tile-gray_stroke', 'capsule-faulty_imprint', 'grid-glue',\n",
    "       'zipper-combined', 'carpet-color', 'grid-bent', 'pill-combined',\n",
    "       'hazelnut-print', 'cable-combined', 'capsule-scratch',\n",
    "       'metal_nut-bent', 'zipper-broken_teeth', 'tile-oil',\n",
    "       'transistor-misplaced', 'grid-thread', 'grid-metal_contamination',\n",
    "       'carpet-cut', 'wood-color', 'cable-cable_swap', 'tile-crack',\n",
    "       'leather-color', 'cable-poke_insulation', 'transistor-cut_lead',\n",
    "       'wood-hole', 'tile-rough', 'wood-liquid'],\n",
    "                                                    target_size=train_input_shape[0:2],\n",
    "                                                    batch_size=Batch_size,\n",
    "                                                    shuffle=True,\n",
    "                                                    class_mode='categorical')"
   ]
  },
  {
   "cell_type": "code",
   "execution_count": null,
   "metadata": {
    "colab": {
     "base_uri": "https://localhost:8080/"
    },
    "executionInfo": {
     "elapsed": 639,
     "status": "ok",
     "timestamp": 1651562201526,
     "user": {
      "displayName": "김태호",
      "userId": "09193565713028953954"
     },
     "user_tz": -540
    },
    "id": "V8jMX2ZAMzBR",
    "outputId": "832da218-37b0-4088-d149-e63c43024167"
   },
   "outputs": [
    {
     "name": "stdout",
     "output_type": "stream",
     "text": [
      "Model: \"sequential_5\"\n",
      "_________________________________________________________________\n",
      " Layer (type)                Output Shape              Param #   \n",
      "=================================================================\n",
      " conv2d_20 (Conv2D)          (None, 55, 55, 96)        34944     \n",
      "                                                                 \n",
      " max_pooling2d_12 (MaxPoolin  (None, 27, 27, 96)       0         \n",
      " g2D)                                                            \n",
      "                                                                 \n",
      " batch_normalization_10 (Bat  (None, 27, 27, 96)       384       \n",
      " chNormalization)                                                \n",
      "                                                                 \n",
      " zero_padding2d_8 (ZeroPaddi  (None, 31, 31, 96)       0         \n",
      " ng2D)                                                           \n",
      "                                                                 \n",
      " conv2d_21 (Conv2D)          (None, 27, 27, 256)       614656    \n",
      "                                                                 \n",
      " max_pooling2d_13 (MaxPoolin  (None, 13, 13, 256)      0         \n",
      " g2D)                                                            \n",
      "                                                                 \n",
      " batch_normalization_11 (Bat  (None, 13, 13, 256)      1024      \n",
      " chNormalization)                                                \n",
      "                                                                 \n",
      " zero_padding2d_9 (ZeroPaddi  (None, 15, 15, 256)      0         \n",
      " ng2D)                                                           \n",
      "                                                                 \n",
      " conv2d_22 (Conv2D)          (None, 13, 13, 384)       885120    \n",
      "                                                                 \n",
      " zero_padding2d_10 (ZeroPadd  (None, 15, 15, 384)      0         \n",
      " ing2D)                                                          \n",
      "                                                                 \n",
      " conv2d_23 (Conv2D)          (None, 13, 13, 384)       1327488   \n",
      "                                                                 \n",
      " zero_padding2d_11 (ZeroPadd  (None, 15, 15, 384)      0         \n",
      " ing2D)                                                          \n",
      "                                                                 \n",
      " conv2d_24 (Conv2D)          (None, 13, 13, 256)       884992    \n",
      "                                                                 \n",
      " max_pooling2d_14 (MaxPoolin  (None, 6, 6, 256)        0         \n",
      " g2D)                                                            \n",
      "                                                                 \n",
      " flatten_4 (Flatten)         (None, 9216)              0         \n",
      "                                                                 \n",
      " dense_12 (Dense)            (None, 4096)              37752832  \n",
      "                                                                 \n",
      " dropout_8 (Dropout)         (None, 4096)              0         \n",
      "                                                                 \n",
      " dense_13 (Dense)            (None, 4096)              16781312  \n",
      "                                                                 \n",
      " dropout_9 (Dropout)         (None, 4096)              0         \n",
      "                                                                 \n",
      " dense_14 (Dense)            (None, 88)                360536    \n",
      "                                                                 \n",
      "=================================================================\n",
      "Total params: 58,643,288\n",
      "Trainable params: 58,642,584\n",
      "Non-trainable params: 704\n",
      "_________________________________________________________________\n",
      "None\n"
     ]
    }
   ],
   "source": [
    "model = Sequential()\n",
    "\n",
    "model.add(Conv2D(96, (11,11), strides=4, input_shape=(227,227,3), activation='relu'))\n",
    "model.add(MaxPooling2D(pool_size=(3,3),strides=2))\n",
    "model.add(BatchNormalization())\n",
    "\n",
    "#Alexnet - 계층 2 : 5X5 필터를 256개 사용 , strides = 1, 활화화함수 = relu, 3x3 크기의 풀리계층 사용\n",
    "model.add(ZeroPadding2D(2))\n",
    "model.add(Conv2D(256,(5,5), strides=1, activation='relu'))\n",
    "\n",
    "model.add(MaxPooling2D(pool_size=(3,3),strides=2))\n",
    "model.add(BatchNormalization())\n",
    "\n",
    "#Alexnet - 계층 3 : 3x3 필터를 384개 사용, strides =1 , 활성화함수 = relu\n",
    "model.add(ZeroPadding2D(1))\n",
    "model.add(Conv2D(384,(3,3), strides=1, activation='relu'))\n",
    "\n",
    "\n",
    "#Alexnet - 계층 4 : 3x3 필터를 384개 사용, strides =1 , 활성화함수 = relu\n",
    "model.add(ZeroPadding2D(1))\n",
    "model.add(Conv2D(384,(3,3), strides=1, activation='relu'))\n",
    "\n",
    "\n",
    "#Alexnet - 계층 5 : 3x3 필터를 256개 사용, strides =1 , 활성화함수 = relu, 3x3 크기의 풀리계층 사용\n",
    "model.add(ZeroPadding2D(1))\n",
    "model.add(Conv2D(256,(3,3), strides=1, activation='relu'))\n",
    "model.add(MaxPooling2D(pool_size=(3,3), strides=2))\n",
    "\n",
    "\n",
    "model.add(Flatten())\n",
    "\n",
    "#Alexnet - 계층 6 : 4096개의 출력뉴런, 활성화함수 = relu\n",
    "model.add(Dense(4096, activation='relu'))\n",
    "model.add(Dropout(0.5))\n",
    "\n",
    "#Alexnet - 계층 7 : 4096게의 출력뉴런, 활성화함수 = relu\n",
    "model.add(Dense(4096, activation='relu'))\n",
    "model.add(Dropout(0.5))\n",
    "\n",
    "#Alexnet - 계층 8 : 1개의 출력뉴런, 활성화함수 = softmax\n",
    "\n",
    "model.add(Dense(88, activation='softmax'))\n",
    "\n",
    "print(model.summary())"
   ]
  },
  {
   "cell_type": "code",
   "execution_count": null,
   "metadata": {
    "id": "FhJlQv33g3tr"
   },
   "outputs": [],
   "source": []
  },
  {
   "cell_type": "code",
   "execution_count": null,
   "metadata": {
    "colab": {
     "base_uri": "https://localhost:8080/"
    },
    "executionInfo": {
     "elapsed": 4717422,
     "status": "ok",
     "timestamp": 1651566957797,
     "user": {
      "displayName": "김태호",
      "userId": "09193565713028953954"
     },
     "user_tz": -540
    },
    "id": "iV-dWwyrPND7",
    "outputId": "5f4152de-1908-4d9a-9f31-195d742c385f"
   },
   "outputs": [
    {
     "name": "stdout",
     "output_type": "stream",
     "text": [
      "Epoch 1/20\n",
      "611/611 [==============================] - 254s 414ms/step - loss: 1.6303 - accuracy: 0.7351\n",
      "Epoch 2/20\n",
      "611/611 [==============================] - 241s 394ms/step - loss: 1.0843 - accuracy: 0.8073\n",
      "Epoch 3/20\n",
      "611/611 [==============================] - 235s 385ms/step - loss: 0.9844 - accuracy: 0.8162\n",
      "Epoch 4/20\n",
      "611/611 [==============================] - 240s 392ms/step - loss: 0.9132 - accuracy: 0.8232\n",
      "Epoch 5/20\n",
      "611/611 [==============================] - 233s 382ms/step - loss: 0.8611 - accuracy: 0.8363\n",
      "Epoch 6/20\n",
      "611/611 [==============================] - 238s 389ms/step - loss: 0.8296 - accuracy: 0.8391\n",
      "Epoch 7/20\n",
      "611/611 [==============================] - 237s 388ms/step - loss: 0.8193 - accuracy: 0.8415\n",
      "Epoch 8/20\n",
      "611/611 [==============================] - 235s 384ms/step - loss: 0.7949 - accuracy: 0.8429\n",
      "Epoch 9/20\n",
      "611/611 [==============================] - 233s 382ms/step - loss: 0.7946 - accuracy: 0.8415\n",
      "Epoch 10/20\n",
      "611/611 [==============================] - 239s 391ms/step - loss: 0.8093 - accuracy: 0.8408\n",
      "Epoch 11/20\n",
      "611/611 [==============================] - 236s 386ms/step - loss: 0.7556 - accuracy: 0.8473\n",
      "Epoch 12/20\n",
      "611/611 [==============================] - 233s 381ms/step - loss: 0.7680 - accuracy: 0.8445\n",
      "Epoch 13/20\n",
      "611/611 [==============================] - 234s 382ms/step - loss: 0.7639 - accuracy: 0.8450\n",
      "Epoch 14/20\n",
      "611/611 [==============================] - 228s 373ms/step - loss: 0.7380 - accuracy: 0.8499\n",
      "Epoch 15/20\n",
      "611/611 [==============================] - 235s 385ms/step - loss: 0.7309 - accuracy: 0.8499\n",
      "Epoch 16/20\n",
      "611/611 [==============================] - 234s 383ms/step - loss: 0.7286 - accuracy: 0.8487\n",
      "Epoch 17/20\n",
      "611/611 [==============================] - 233s 382ms/step - loss: 0.7282 - accuracy: 0.8469\n",
      "Epoch 18/20\n",
      "611/611 [==============================] - 230s 377ms/step - loss: 0.7128 - accuracy: 0.8511\n",
      "Epoch 19/20\n",
      "611/611 [==============================] - 230s 376ms/step - loss: 0.7057 - accuracy: 0.8494\n",
      "Epoch 20/20\n",
      "611/611 [==============================] - 229s 375ms/step - loss: 0.6969 - accuracy: 0.8501\n"
     ]
    }
   ],
   "source": [
    "model.compile(optimizer=Adam(learning_rate=1e-4),\n",
    "              loss='categorical_crossentropy',\n",
    "              metrics=['accuracy'])\n",
    "\n",
    "history = model.fit(train_generator,    \n",
    "                   steps_per_epoch=(4277 // 7),\n",
    "                   epochs=20,)\n",
    "\n",
    "model.save('/content/drive/MyDrive/Colab폴더/second.h5')"
   ]
  },
  {
   "cell_type": "code",
   "execution_count": 12,
   "metadata": {
    "executionInfo": {
     "elapsed": 2896,
     "status": "ok",
     "timestamp": 1651647417802,
     "user": {
      "displayName": "김태호",
      "userId": "09193565713028953954"
     },
     "user_tz": -540
    },
    "id": "7Ddsml3LiIzF"
   },
   "outputs": [],
   "source": [
    "model = tf.keras.models.load_model('/content/drive/MyDrive/Colab폴더/second.h5')"
   ]
  },
  {
   "cell_type": "code",
   "execution_count": 17,
   "metadata": {
    "executionInfo": {
     "elapsed": 428,
     "status": "ok",
     "timestamp": 1651647700977,
     "user": {
      "displayName": "김태호",
      "userId": "09193565713028953954"
     },
     "user_tz": -540
    },
    "id": "0ACJy9y80PvU"
   },
   "outputs": [],
   "source": [
    "test_images = '/content/drive/MyDrive/Colab폴더/open/test/test/20001.png'"
   ]
  },
  {
   "cell_type": "code",
   "execution_count": 10,
   "metadata": {
    "executionInfo": {
     "elapsed": 440,
     "status": "ok",
     "timestamp": 1651647363699,
     "user": {
      "displayName": "김태호",
      "userId": "09193565713028953954"
     },
     "user_tz": -540
    },
    "id": "-737cU2uRCYd"
   },
   "outputs": [],
   "source": [
    "test_label =  ['transistor-good', 'capsule-good', 'wood-good', 'bottle-good',\n",
    "       'screw-good', 'cable-bent_wire', 'carpet-hole', 'hazelnut-good',\n",
    "       'pill-pill_type', 'cable-good', 'metal_nut-scratch', 'pill-good',\n",
    "       'screw-thread_side', 'zipper-fabric_border', 'leather-good',\n",
    "       'pill-scratch', 'toothbrush-good', 'hazelnut-crack',\n",
    "       'screw-manipulated_front', 'zipper-good', 'tile-good',\n",
    "       'carpet-good', 'metal_nut-good', 'bottle-contamination',\n",
    "       'grid-good', 'zipper-split_teeth', 'pill-crack', 'wood-combined',\n",
    "       'pill-color', 'screw-thread_top', 'cable-missing_cable',\n",
    "       'capsule-squeeze', 'zipper-rough', 'capsule-crack', 'capsule-poke',\n",
    "       'metal_nut-flip', 'carpet-metal_contamination', 'metal_nut-color',\n",
    "       'transistor-bent_lead', 'zipper-fabric_interior', 'leather-fold',\n",
    "       'tile-glue_strip', 'screw-scratch_neck', 'screw-scratch_head',\n",
    "       'hazelnut-cut', 'bottle-broken_large', 'bottle-broken_small',\n",
    "       'leather-cut', 'cable-cut_outer_insulation',\n",
    "       'zipper-squeezed_teeth', 'toothbrush-defective',\n",
    "       'cable-cut_inner_insulation', 'pill-contamination',\n",
    "       'cable-missing_wire', 'carpet-thread', 'grid-broken',\n",
    "       'pill-faulty_imprint', 'hazelnut-hole', 'leather-glue',\n",
    "       'leather-poke', 'transistor-damaged_case', 'wood-scratch',\n",
    "       'tile-gray_stroke', 'capsule-faulty_imprint', 'grid-glue',\n",
    "       'zipper-combined', 'carpet-color', 'grid-bent', 'pill-combined',\n",
    "       'hazelnut-print', 'cable-combined', 'capsule-scratch',\n",
    "       'metal_nut-bent', 'zipper-broken_teeth', 'tile-oil',\n",
    "       'transistor-misplaced', 'grid-thread', 'grid-metal_contamination',\n",
    "       'carpet-cut', 'wood-color', 'cable-cable_swap', 'tile-crack',\n",
    "       'leather-color', 'cable-poke_insulation', 'transistor-cut_lead',\n",
    "       'wood-hole', 'tile-rough', 'wood-liquid']"
   ]
  },
  {
   "cell_type": "code",
   "execution_count": 16,
   "metadata": {
    "colab": {
     "base_uri": "https://localhost:8080/",
     "height": 363
    },
    "executionInfo": {
     "elapsed": 648,
     "status": "error",
     "timestamp": 1651647519161,
     "user": {
      "displayName": "김태호",
      "userId": "09193565713028953954"
     },
     "user_tz": -540
    },
    "id": "iJRzYzXY3Ove",
    "outputId": "04741668-fc0e-4b9e-86fe-8e6a2db0a1ec"
   },
   "outputs": [
    {
     "ename": "IndexError",
     "evalue": "ignored",
     "output_type": "error",
     "traceback": [
      "\u001b[0;31m---------------------------------------------------------------------------\u001b[0m",
      "\u001b[0;31mIndexError\u001b[0m                                Traceback (most recent call last)",
      "\u001b[0;32m<ipython-input-16-f04c8cc646c1>\u001b[0m in \u001b[0;36m<module>\u001b[0;34m()\u001b[0m\n\u001b[0;32m----> 1\u001b[0;31m \u001b[0mtest_loss\u001b[0m\u001b[0;34m,\u001b[0m \u001b[0mtest_acc\u001b[0m \u001b[0;34m=\u001b[0m \u001b[0mmodel\u001b[0m\u001b[0;34m.\u001b[0m\u001b[0mevaluate\u001b[0m\u001b[0;34m(\u001b[0m\u001b[0mtest_images\u001b[0m\u001b[0;34m,\u001b[0m  \u001b[0mtest_label\u001b[0m\u001b[0;34m,\u001b[0m \u001b[0mverbose\u001b[0m\u001b[0;34m=\u001b[0m\u001b[0;36m2\u001b[0m\u001b[0;34m)\u001b[0m\u001b[0;34m\u001b[0m\u001b[0;34m\u001b[0m\u001b[0m\n\u001b[0m\u001b[1;32m      2\u001b[0m \u001b[0;34m\u001b[0m\u001b[0m\n\u001b[1;32m      3\u001b[0m \u001b[0mprint\u001b[0m\u001b[0;34m(\u001b[0m\u001b[0;34m'\\nTest accuracy:'\u001b[0m\u001b[0;34m,\u001b[0m \u001b[0mtest_acc\u001b[0m\u001b[0;34m)\u001b[0m\u001b[0;34m\u001b[0m\u001b[0;34m\u001b[0m\u001b[0m\n",
      "\u001b[0;32m/usr/local/lib/python3.7/dist-packages/keras/utils/traceback_utils.py\u001b[0m in \u001b[0;36merror_handler\u001b[0;34m(*args, **kwargs)\u001b[0m\n\u001b[1;32m     65\u001b[0m     \u001b[0;32mexcept\u001b[0m \u001b[0mException\u001b[0m \u001b[0;32mas\u001b[0m \u001b[0me\u001b[0m\u001b[0;34m:\u001b[0m  \u001b[0;31m# pylint: disable=broad-except\u001b[0m\u001b[0;34m\u001b[0m\u001b[0;34m\u001b[0m\u001b[0m\n\u001b[1;32m     66\u001b[0m       \u001b[0mfiltered_tb\u001b[0m \u001b[0;34m=\u001b[0m \u001b[0m_process_traceback_frames\u001b[0m\u001b[0;34m(\u001b[0m\u001b[0me\u001b[0m\u001b[0;34m.\u001b[0m\u001b[0m__traceback__\u001b[0m\u001b[0;34m)\u001b[0m\u001b[0;34m\u001b[0m\u001b[0;34m\u001b[0m\u001b[0m\n\u001b[0;32m---> 67\u001b[0;31m       \u001b[0;32mraise\u001b[0m \u001b[0me\u001b[0m\u001b[0;34m.\u001b[0m\u001b[0mwith_traceback\u001b[0m\u001b[0;34m(\u001b[0m\u001b[0mfiltered_tb\u001b[0m\u001b[0;34m)\u001b[0m \u001b[0;32mfrom\u001b[0m \u001b[0;32mNone\u001b[0m\u001b[0;34m\u001b[0m\u001b[0;34m\u001b[0m\u001b[0m\n\u001b[0m\u001b[1;32m     68\u001b[0m     \u001b[0;32mfinally\u001b[0m\u001b[0;34m:\u001b[0m\u001b[0;34m\u001b[0m\u001b[0;34m\u001b[0m\u001b[0m\n\u001b[1;32m     69\u001b[0m       \u001b[0;32mdel\u001b[0m \u001b[0mfiltered_tb\u001b[0m\u001b[0;34m\u001b[0m\u001b[0;34m\u001b[0m\u001b[0m\n",
      "\u001b[0;32m/usr/local/lib/python3.7/dist-packages/tensorflow/python/framework/tensor_shape.py\u001b[0m in \u001b[0;36m__getitem__\u001b[0;34m(self, key)\u001b[0m\n\u001b[1;32m    900\u001b[0m       \u001b[0;32melse\u001b[0m\u001b[0;34m:\u001b[0m\u001b[0;34m\u001b[0m\u001b[0;34m\u001b[0m\u001b[0m\n\u001b[1;32m    901\u001b[0m         \u001b[0;32mif\u001b[0m \u001b[0mself\u001b[0m\u001b[0;34m.\u001b[0m\u001b[0m_v2_behavior\u001b[0m\u001b[0;34m:\u001b[0m\u001b[0;34m\u001b[0m\u001b[0;34m\u001b[0m\u001b[0m\n\u001b[0;32m--> 902\u001b[0;31m           \u001b[0;32mreturn\u001b[0m \u001b[0mself\u001b[0m\u001b[0;34m.\u001b[0m\u001b[0m_dims\u001b[0m\u001b[0;34m[\u001b[0m\u001b[0mkey\u001b[0m\u001b[0;34m]\u001b[0m\u001b[0;34m.\u001b[0m\u001b[0mvalue\u001b[0m\u001b[0;34m\u001b[0m\u001b[0;34m\u001b[0m\u001b[0m\n\u001b[0m\u001b[1;32m    903\u001b[0m         \u001b[0;32melse\u001b[0m\u001b[0;34m:\u001b[0m\u001b[0;34m\u001b[0m\u001b[0;34m\u001b[0m\u001b[0m\n\u001b[1;32m    904\u001b[0m           \u001b[0;32mreturn\u001b[0m \u001b[0mself\u001b[0m\u001b[0;34m.\u001b[0m\u001b[0m_dims\u001b[0m\u001b[0;34m[\u001b[0m\u001b[0mkey\u001b[0m\u001b[0;34m]\u001b[0m\u001b[0;34m\u001b[0m\u001b[0;34m\u001b[0m\u001b[0m\n",
      "\u001b[0;31mIndexError\u001b[0m: list index out of range"
     ]
    }
   ],
   "source": [
    "test_loss, test_acc = model.evaluate(test_images,  test_label, verbose=2)\n",
    "\n",
    "print('\\nTest accuracy:', test_acc)"
   ]
  },
  {
   "cell_type": "code",
   "execution_count": 13,
   "metadata": {
    "executionInfo": {
     "elapsed": 526,
     "status": "ok",
     "timestamp": 1651647421101,
     "user": {
      "displayName": "김태호",
      "userId": "09193565713028953954"
     },
     "user_tz": -540
    },
    "id": "rq63qbh3NXJs"
   },
   "outputs": [],
   "source": [
    "probability_model = tf.keras.Sequential([model, \n",
    "                                         tf.keras.layers.Softmax()])"
   ]
  },
  {
   "cell_type": "code",
   "execution_count": 18,
   "metadata": {
    "colab": {
     "base_uri": "https://localhost:8080/",
     "height": 327
    },
    "executionInfo": {
     "elapsed": 426,
     "status": "error",
     "timestamp": 1651647706635,
     "user": {
      "displayName": "김태호",
      "userId": "09193565713028953954"
     },
     "user_tz": -540
    },
    "id": "flFg-vP-20wY",
    "outputId": "48500e14-2e07-4dd2-c225-421bb8724679"
   },
   "outputs": [
    {
     "ename": "IndexError",
     "evalue": "ignored",
     "output_type": "error",
     "traceback": [
      "\u001b[0;31m---------------------------------------------------------------------------\u001b[0m",
      "\u001b[0;31mIndexError\u001b[0m                                Traceback (most recent call last)",
      "\u001b[0;32m<ipython-input-18-f66e66cab11b>\u001b[0m in \u001b[0;36m<module>\u001b[0;34m()\u001b[0m\n\u001b[0;32m----> 1\u001b[0;31m \u001b[0mpredictions\u001b[0m \u001b[0;34m=\u001b[0m \u001b[0mprobability_model\u001b[0m\u001b[0;34m.\u001b[0m\u001b[0mpredict\u001b[0m\u001b[0;34m(\u001b[0m\u001b[0mtest_images\u001b[0m\u001b[0;34m)\u001b[0m\u001b[0;34m\u001b[0m\u001b[0;34m\u001b[0m\u001b[0m\n\u001b[0m",
      "\u001b[0;32m/usr/local/lib/python3.7/dist-packages/keras/utils/traceback_utils.py\u001b[0m in \u001b[0;36merror_handler\u001b[0;34m(*args, **kwargs)\u001b[0m\n\u001b[1;32m     65\u001b[0m     \u001b[0;32mexcept\u001b[0m \u001b[0mException\u001b[0m \u001b[0;32mas\u001b[0m \u001b[0me\u001b[0m\u001b[0;34m:\u001b[0m  \u001b[0;31m# pylint: disable=broad-except\u001b[0m\u001b[0;34m\u001b[0m\u001b[0;34m\u001b[0m\u001b[0m\n\u001b[1;32m     66\u001b[0m       \u001b[0mfiltered_tb\u001b[0m \u001b[0;34m=\u001b[0m \u001b[0m_process_traceback_frames\u001b[0m\u001b[0;34m(\u001b[0m\u001b[0me\u001b[0m\u001b[0;34m.\u001b[0m\u001b[0m__traceback__\u001b[0m\u001b[0;34m)\u001b[0m\u001b[0;34m\u001b[0m\u001b[0;34m\u001b[0m\u001b[0m\n\u001b[0;32m---> 67\u001b[0;31m       \u001b[0;32mraise\u001b[0m \u001b[0me\u001b[0m\u001b[0;34m.\u001b[0m\u001b[0mwith_traceback\u001b[0m\u001b[0;34m(\u001b[0m\u001b[0mfiltered_tb\u001b[0m\u001b[0;34m)\u001b[0m \u001b[0;32mfrom\u001b[0m \u001b[0;32mNone\u001b[0m\u001b[0;34m\u001b[0m\u001b[0;34m\u001b[0m\u001b[0m\n\u001b[0m\u001b[1;32m     68\u001b[0m     \u001b[0;32mfinally\u001b[0m\u001b[0;34m:\u001b[0m\u001b[0;34m\u001b[0m\u001b[0;34m\u001b[0m\u001b[0m\n\u001b[1;32m     69\u001b[0m       \u001b[0;32mdel\u001b[0m \u001b[0mfiltered_tb\u001b[0m\u001b[0;34m\u001b[0m\u001b[0;34m\u001b[0m\u001b[0m\n",
      "\u001b[0;32m/usr/local/lib/python3.7/dist-packages/tensorflow/python/framework/tensor_shape.py\u001b[0m in \u001b[0;36m__getitem__\u001b[0;34m(self, key)\u001b[0m\n\u001b[1;32m    900\u001b[0m       \u001b[0;32melse\u001b[0m\u001b[0;34m:\u001b[0m\u001b[0;34m\u001b[0m\u001b[0;34m\u001b[0m\u001b[0m\n\u001b[1;32m    901\u001b[0m         \u001b[0;32mif\u001b[0m \u001b[0mself\u001b[0m\u001b[0;34m.\u001b[0m\u001b[0m_v2_behavior\u001b[0m\u001b[0;34m:\u001b[0m\u001b[0;34m\u001b[0m\u001b[0;34m\u001b[0m\u001b[0m\n\u001b[0;32m--> 902\u001b[0;31m           \u001b[0;32mreturn\u001b[0m \u001b[0mself\u001b[0m\u001b[0;34m.\u001b[0m\u001b[0m_dims\u001b[0m\u001b[0;34m[\u001b[0m\u001b[0mkey\u001b[0m\u001b[0;34m]\u001b[0m\u001b[0;34m.\u001b[0m\u001b[0mvalue\u001b[0m\u001b[0;34m\u001b[0m\u001b[0;34m\u001b[0m\u001b[0m\n\u001b[0m\u001b[1;32m    903\u001b[0m         \u001b[0;32melse\u001b[0m\u001b[0;34m:\u001b[0m\u001b[0;34m\u001b[0m\u001b[0;34m\u001b[0m\u001b[0m\n\u001b[1;32m    904\u001b[0m           \u001b[0;32mreturn\u001b[0m \u001b[0mself\u001b[0m\u001b[0;34m.\u001b[0m\u001b[0m_dims\u001b[0m\u001b[0;34m[\u001b[0m\u001b[0mkey\u001b[0m\u001b[0;34m]\u001b[0m\u001b[0;34m\u001b[0m\u001b[0;34m\u001b[0m\u001b[0m\n",
      "\u001b[0;31mIndexError\u001b[0m: list index out of range"
     ]
    }
   ],
   "source": [
    "predictions = probability_model.predict(test_images)"
   ]
  }
 ],
 "metadata": {
  "accelerator": "GPU",
  "colab": {
   "authorship_tag": "ABX9TyOBI8LaJB8IfdBvZbzifYXu",
   "collapsed_sections": [],
   "mount_file_id": "1q-euyre05FjIwHiZiRavcHsPbBbvMz0M",
   "name": "0503_2번째.ipynb",
   "provenance": []
  },
  "kernelspec": {
   "display_name": "Python 3 (ipykernel)",
   "language": "python",
   "name": "python3"
  },
  "language_info": {
   "codemirror_mode": {
    "name": "ipython",
    "version": 3
   },
   "file_extension": ".py",
   "mimetype": "text/x-python",
   "name": "python",
   "nbconvert_exporter": "python",
   "pygments_lexer": "ipython3",
   "version": "3.8.13"
  }
 },
 "nbformat": 4,
 "nbformat_minor": 1
}
