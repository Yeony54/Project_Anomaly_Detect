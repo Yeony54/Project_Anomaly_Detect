{
 "cells": [
  {
   "cell_type": "code",
   "execution_count": 2,
   "id": "2881a988",
   "metadata": {},
   "outputs": [],
   "source": [
    "import numpy as np\n",
    "import pandas as pd\n",
    "import matplotlib.pyplot as plt\n",
    "\n",
    "df_train = pd.read_csv('./data/train_df.csv')\n",
    "df_test = pd.read_csv('./data/test_df.csv')"
   ]
  },
  {
   "cell_type": "code",
   "execution_count": 3,
   "id": "0eeba42f",
   "metadata": {},
   "outputs": [
    {
     "name": "stdout",
     "output_type": "stream",
     "text": [
      "train lenght : 4277\n",
      " test lenght : 2154\n"
     ]
    }
   ],
   "source": [
    "print(f'train lenght : {len(df_train)}')\n",
    "print(f' test lenght : {len(df_test)}')"
   ]
  },
  {
   "cell_type": "code",
   "execution_count": 4,
   "id": "eb0d19a7",
   "metadata": {},
   "outputs": [
    {
     "name": "stdout",
     "output_type": "stream",
     "text": [
      "<class 'pandas.core.frame.DataFrame'>\n",
      "RangeIndex: 4277 entries, 0 to 4276\n",
      "Data columns (total 5 columns):\n",
      " #   Column     Non-Null Count  Dtype \n",
      "---  ------     --------------  ----- \n",
      " 0   index      4277 non-null   int64 \n",
      " 1   file_name  4277 non-null   object\n",
      " 2   class      4277 non-null   object\n",
      " 3   state      4277 non-null   object\n",
      " 4   label      4277 non-null   object\n",
      "dtypes: int64(1), object(4)\n",
      "memory usage: 167.2+ KB\n",
      "None\n",
      "=============================\n",
      "<class 'pandas.core.frame.DataFrame'>\n",
      "RangeIndex: 2154 entries, 0 to 2153\n",
      "Data columns (total 2 columns):\n",
      " #   Column     Non-Null Count  Dtype \n",
      "---  ------     --------------  ----- \n",
      " 0   index      2154 non-null   int64 \n",
      " 1   file_name  2154 non-null   object\n",
      "dtypes: int64(1), object(1)\n",
      "memory usage: 33.8+ KB\n",
      "None\n"
     ]
    }
   ],
   "source": [
    "print(df_train.info())\n",
    "print('=============================')\n",
    "print(df_test.info())"
   ]
  },
  {
   "cell_type": "code",
   "execution_count": 5,
   "id": "3b76b864",
   "metadata": {},
   "outputs": [
    {
     "name": "stdout",
     "output_type": "stream",
     "text": [
      "class 개수 :  15\n",
      "label 개수 :  88\n"
     ]
    }
   ],
   "source": [
    "classList = df_train['class'].unique()\n",
    "print('class 개수 : ', len(df_train['class'].unique()))\n",
    "print('label 개수 : ', len(df_train['label'].unique()))"
   ]
  },
  {
   "cell_type": "code",
   "execution_count": 6,
   "id": "97889e1c",
   "metadata": {},
   "outputs": [
    {
     "data": {
      "text/html": [
       "<div>\n",
       "<style scoped>\n",
       "    .dataframe tbody tr th:only-of-type {\n",
       "        vertical-align: middle;\n",
       "    }\n",
       "\n",
       "    .dataframe tbody tr th {\n",
       "        vertical-align: top;\n",
       "    }\n",
       "\n",
       "    .dataframe thead th {\n",
       "        text-align: right;\n",
       "    }\n",
       "</style>\n",
       "<table border=\"1\" class=\"dataframe\">\n",
       "  <thead>\n",
       "    <tr style=\"text-align: right;\">\n",
       "      <th></th>\n",
       "      <th>count</th>\n",
       "    </tr>\n",
       "    <tr>\n",
       "      <th>label</th>\n",
       "      <th></th>\n",
       "    </tr>\n",
       "  </thead>\n",
       "  <tbody>\n",
       "    <tr>\n",
       "      <th>bottle-broken_large</th>\n",
       "      <td>10</td>\n",
       "    </tr>\n",
       "    <tr>\n",
       "      <th>bottle-broken_small</th>\n",
       "      <td>11</td>\n",
       "    </tr>\n",
       "    <tr>\n",
       "      <th>bottle-contamination</th>\n",
       "      <td>11</td>\n",
       "    </tr>\n",
       "    <tr>\n",
       "      <th>bottle-good</th>\n",
       "      <td>209</td>\n",
       "    </tr>\n",
       "    <tr>\n",
       "      <th>cable-bent_wire</th>\n",
       "      <td>7</td>\n",
       "    </tr>\n",
       "    <tr>\n",
       "      <th>...</th>\n",
       "      <td>...</td>\n",
       "    </tr>\n",
       "    <tr>\n",
       "      <th>zipper-fabric_interior</th>\n",
       "      <td>8</td>\n",
       "    </tr>\n",
       "    <tr>\n",
       "      <th>zipper-good</th>\n",
       "      <td>240</td>\n",
       "    </tr>\n",
       "    <tr>\n",
       "      <th>zipper-rough</th>\n",
       "      <td>9</td>\n",
       "    </tr>\n",
       "    <tr>\n",
       "      <th>zipper-split_teeth</th>\n",
       "      <td>9</td>\n",
       "    </tr>\n",
       "    <tr>\n",
       "      <th>zipper-squeezed_teeth</th>\n",
       "      <td>8</td>\n",
       "    </tr>\n",
       "  </tbody>\n",
       "</table>\n",
       "<p>88 rows × 1 columns</p>\n",
       "</div>"
      ],
      "text/plain": [
       "                        count\n",
       "label                        \n",
       "bottle-broken_large        10\n",
       "bottle-broken_small        11\n",
       "bottle-contamination       11\n",
       "bottle-good               209\n",
       "cable-bent_wire             7\n",
       "...                       ...\n",
       "zipper-fabric_interior      8\n",
       "zipper-good               240\n",
       "zipper-rough                9\n",
       "zipper-split_teeth          9\n",
       "zipper-squeezed_teeth       8\n",
       "\n",
       "[88 rows x 1 columns]"
      ]
     },
     "execution_count": 6,
     "metadata": {},
     "output_type": "execute_result"
    }
   ],
   "source": [
    "labelCount = df_train[['class', 'label']].groupby('label').count().rename(columns={'class': 'count'})\n",
    "labelCount"
   ]
  },
  {
   "cell_type": "code",
   "execution_count": 7,
   "id": "4d945fe1",
   "metadata": {},
   "outputs": [],
   "source": [
    "anomaly_dict = {}\n",
    "for className in classList:\n",
    "    df = pd.DataFrame(labelCount[labelCount.index.str.contains(className)]).sort_values(by='count', ascending=False)\n",
    "    anomaly_dict[className] = df"
   ]
  },
  {
   "cell_type": "code",
   "execution_count": 15,
   "id": "94ccf05f",
   "metadata": {
    "scrolled": false
   },
   "outputs": [
    {
     "data": {
      "image/png": "[encoded data removed]",
      "text/plain": [
       "<Figure size 1080x720 with 2 Axes>"
      ]
     },
     "metadata": {
      "needs_background": "light"
     },
     "output_type": "display_data"
    }
   ],
   "source": [
    "fig, axs = plt.subplots(2, 1, figsize=(15, 10))\n",
    "fig.subplots_adjust(hspace = .3)\n",
    "axs = axs.ravel()\n",
    "\n",
    "for i, (className, df) in enumerate(anomaly_dict.items()):\n",
    "    if i == 1: break\n",
    "    colors = ['red' for i in range(len(df.index))]\n",
    "    colors[0] = 'green'\n",
    "    axs[i].bar(df.index, df.iloc[:, 0], color=colors, alpha=0.5)\n",
    "    axs[i].set_title(className, fontsize=20)\n",
    "    for j, value in enumerate(df.iloc[:, 0]):\n",
    "        axs[i].text(j, 20, df.iloc[:, 0][j], ha='center', fontsize=20)\n",
    "        \n",
    "plt.savefig('./myfigure.png', transparent = True)"
   ]
  },
  {
   "cell_type": "code",
   "execution_count": null,
   "id": "a0505789",
   "metadata": {},
   "outputs": [],
   "source": []
  }
 ],
 "metadata": {
  "kernelspec": {
   "display_name": "Python 3 (ipykernel)",
   "language": "python",
   "name": "python3"
  },
  "language_info": {
   "codemirror_mode": {
    "name": "ipython",
    "version": 3
   },
   "file_extension": ".py",
   "mimetype": "text/x-python",
   "name": "python",
   "nbconvert_exporter": "python",
   "pygments_lexer": "ipython3",
   "version": "3.8.13"
  }
 },
 "nbformat": 4,
 "nbformat_minor": 5
}
